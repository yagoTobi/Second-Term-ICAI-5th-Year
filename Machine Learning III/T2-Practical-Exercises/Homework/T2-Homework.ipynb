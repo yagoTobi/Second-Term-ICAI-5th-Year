{
 "cells": [
  {
   "cell_type": "markdown",
   "id": "abb01807",
   "metadata": {},
   "source": [
    "# PCA Analysis Breast Cancer"
   ]
  },
  {
   "cell_type": "markdown",
   "id": "bff08557",
   "metadata": {},
   "source": [
    "You are tasked with developing a machine learning model to classify breast cancer tumors as either benign (non-cancerous) or malignant (cancerous) based on features extracted from breast cancer biopsies.The dataset you will be working with is the Breast Cancer Wisconsin (Diagnostic) dataset, available in sklearn. This dataset contains a total of 569 instances with 30 feature attributes computed from a digitized image of a fine needle aspirate (FNA) of a breast mass. The target variable is binary, with '0' indicating benign tumors and '1' indicating malignant tumors. \n",
    "\n",
    "To complete the task you need to: \n",
    "\n",
    "1. Principal Component Analysis (PCA) for dimensionality reduction and then train a classifier on the reduced dataset. Remember to train the chosen model on the PCA-transformed training data. \n",
    "2. Evaluate the model's performance using appropriate metrics (e.g., accuracy, precision, recall, F1-score, confusion matrix, etc.) on the test dataset.\n",
    "3. Visualize the results, such as the confusion matrix, to assess the model's performance in classifying benign and malignant tumors.\n",
    "4. Summarize the findings and the effectiveness of PCA in reducing dimensionality for this classification task."
   ]
  },
  {
   "cell_type": "code",
   "execution_count": 8,
   "id": "ba1ed3fd",
   "metadata": {},
   "outputs": [],
   "source": [
    "import numpy as np\n",
    "from sklearn.datasets import load_breast_cancer\n",
    "import pandas as pd\n",
    "\n",
    "X_data = load_breast_cancer()"
   ]
  }
 ],
 "metadata": {
  "kernelspec": {
   "display_name": "Python 3 (ipykernel)",
   "language": "python",
   "name": "python3"
  },
  "language_info": {
   "codemirror_mode": {
    "name": "ipython",
    "version": 3
   },
   "file_extension": ".py",
   "mimetype": "text/x-python",
   "name": "python",
   "nbconvert_exporter": "python",
   "pygments_lexer": "ipython3",
   "version": "3.11.5"
  }
 },
 "nbformat": 4,
 "nbformat_minor": 5
}
