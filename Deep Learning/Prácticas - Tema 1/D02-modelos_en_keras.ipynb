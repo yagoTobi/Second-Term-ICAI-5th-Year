{
 "cells": [
  {
   "cell_type": "code",
   "execution_count": 2,
   "id": "4e55aafd-e8e2-4191-b8e1-bc8d125adb48",
   "metadata": {},
   "outputs": [],
   "source": [
    "import numpy as np\n",
    "import matplotlib.pyplot as plt\n",
    "from tensorflow import keras\n",
    "import tensorflow as tf\n",
    "import pandas as pd"
   ]
  },
  {
   "cell_type": "markdown",
   "id": "ca4489ee-a226-446e-abbe-f1d9a9095156",
   "metadata": {},
   "source": [
    "# Modelo de regresión\n",
    "\n",
    "Construir un modelo de regresión para el siguiente modelo lineal\n",
    "\n",
    "$ y = w_0 * x_0 + w_1 * x_1 + w_2 * x_2 + w_3 * x_3 + w_4 * x_4 + b$"
   ]
  },
  {
   "cell_type": "code",
   "execution_count": 3,
   "id": "9ccd0936-b31f-419b-8b54-03c3c7be88d7",
   "metadata": {},
   "outputs": [],
   "source": [
    "# Definimos los parámetros de nuestro modelo\n",
    "weights = np.asarray([5, -1, 0, -2, 1])\n",
    "bias = 2"
   ]
  },
  {
   "cell_type": "code",
   "execution_count": 4,
   "id": "c14cb26b-7d2b-4fe7-9425-0c723eb4c102",
   "metadata": {},
   "outputs": [],
   "source": [
    "X = np.random.randn(100, 5) # Generamos features sintéticas\n",
    "y = np.matmul(X, weights) +  bias # Calculamos los targets # * Esto es generar el modelo de regresión random. "
   ]
  },
  {
   "cell_type": "markdown",
   "id": "d61dc6a4-0639-4bcb-99ba-4e7f88471811",
   "metadata": {},
   "source": [
    "Creamos una red para el modelo."
   ]
  },
  {
   "cell_type": "code",
   "execution_count": 5,
   "id": "bd38ab17-b65c-4083-a4e7-160b1d6e9be6",
   "metadata": {},
   "outputs": [],
   "source": [
    "input_ = keras.layers.Input(5) # * Tenemos 5 inputs - 4 parametros + el bías. \n",
    "x = keras.layers.Dense(1)(input_) # * Lo conectamos a una única neurona\n",
    "\n",
    "model = keras.models.Model(input_, x)"
   ]
  },
  {
   "cell_type": "code",
   "execution_count": 6,
   "id": "064d27fd-6ff0-4633-a696-9e4587d7c0bd",
   "metadata": {},
   "outputs": [],
   "source": [
    "model.compile(\"adam\", \"mse\") # * En vez de gradient descent, basamos nuestra función de coste con ADAM y en base a Mean Square Error. "
   ]
  },
  {
   "cell_type": "code",
   "execution_count": 7,
   "id": "cc4e425b-a287-4c8b-9988-563c5c6a1223",
   "metadata": {},
   "outputs": [
    {
     "name": "stdout",
     "output_type": "stream",
     "text": [
      "Epoch 1/200\n"
     ]
    },
    {
     "name": "stdout",
     "output_type": "stream",
     "text": [
      "100/100 - 0s - loss: 35.5595 - 147ms/epoch - 1ms/step\n",
      "Epoch 2/200\n",
      "100/100 - 0s - loss: 34.8207 - 40ms/epoch - 401us/step\n",
      "Epoch 3/200\n",
      "100/100 - 0s - loss: 34.1028 - 40ms/epoch - 404us/step\n",
      "Epoch 4/200\n",
      "100/100 - 0s - loss: 33.3929 - 42ms/epoch - 424us/step\n",
      "Epoch 5/200\n",
      "100/100 - 0s - loss: 32.6835 - 39ms/epoch - 390us/step\n",
      "Epoch 6/200\n",
      "100/100 - 0s - loss: 31.9734 - 36ms/epoch - 359us/step\n",
      "Epoch 7/200\n",
      "100/100 - 0s - loss: 31.2882 - 35ms/epoch - 352us/step\n",
      "Epoch 8/200\n",
      "100/100 - 0s - loss: 30.6064 - 34ms/epoch - 336us/step\n",
      "Epoch 9/200\n",
      "100/100 - 0s - loss: 29.9484 - 34ms/epoch - 337us/step\n",
      "Epoch 10/200\n",
      "100/100 - 0s - loss: 29.2830 - 32ms/epoch - 322us/step\n",
      "Epoch 11/200\n",
      "100/100 - 0s - loss: 28.6482 - 32ms/epoch - 323us/step\n",
      "Epoch 12/200\n",
      "100/100 - 0s - loss: 28.0177 - 33ms/epoch - 327us/step\n",
      "Epoch 13/200\n",
      "100/100 - 0s - loss: 27.4059 - 33ms/epoch - 333us/step\n",
      "Epoch 14/200\n",
      "100/100 - 0s - loss: 26.7828 - 37ms/epoch - 374us/step\n",
      "Epoch 15/200\n",
      "100/100 - 0s - loss: 26.1769 - 40ms/epoch - 402us/step\n",
      "Epoch 16/200\n",
      "100/100 - 0s - loss: 25.5873 - 40ms/epoch - 405us/step\n",
      "Epoch 17/200\n",
      "100/100 - 0s - loss: 24.9979 - 45ms/epoch - 453us/step\n",
      "Epoch 18/200\n",
      "100/100 - 0s - loss: 24.4170 - 45ms/epoch - 447us/step\n",
      "Epoch 19/200\n",
      "100/100 - 0s - loss: 23.8521 - 38ms/epoch - 378us/step\n",
      "Epoch 20/200\n",
      "100/100 - 0s - loss: 23.2964 - 45ms/epoch - 454us/step\n",
      "Epoch 21/200\n",
      "100/100 - 0s - loss: 22.7514 - 42ms/epoch - 420us/step\n",
      "Epoch 22/200\n",
      "100/100 - 0s - loss: 22.2059 - 34ms/epoch - 342us/step\n",
      "Epoch 23/200\n",
      "100/100 - 0s - loss: 21.6646 - 55ms/epoch - 545us/step\n",
      "Epoch 24/200\n",
      "100/100 - 0s - loss: 21.1452 - 34ms/epoch - 336us/step\n",
      "Epoch 25/200\n",
      "100/100 - 0s - loss: 20.6289 - 32ms/epoch - 322us/step\n",
      "Epoch 26/200\n",
      "100/100 - 0s - loss: 20.1264 - 40ms/epoch - 396us/step\n",
      "Epoch 27/200\n",
      "100/100 - 0s - loss: 19.6230 - 43ms/epoch - 434us/step\n",
      "Epoch 28/200\n",
      "100/100 - 0s - loss: 19.1299 - 46ms/epoch - 457us/step\n",
      "Epoch 29/200\n",
      "100/100 - 0s - loss: 18.6450 - 42ms/epoch - 418us/step\n",
      "Epoch 30/200\n",
      "100/100 - 0s - loss: 18.1662 - 39ms/epoch - 388us/step\n",
      "Epoch 31/200\n",
      "100/100 - 0s - loss: 17.6969 - 33ms/epoch - 333us/step\n",
      "Epoch 32/200\n",
      "100/100 - 0s - loss: 17.2360 - 34ms/epoch - 343us/step\n",
      "Epoch 33/200\n",
      "100/100 - 0s - loss: 16.7754 - 34ms/epoch - 344us/step\n",
      "Epoch 34/200\n",
      "100/100 - 0s - loss: 16.3284 - 36ms/epoch - 361us/step\n",
      "Epoch 35/200\n",
      "100/100 - 0s - loss: 15.8927 - 38ms/epoch - 382us/step\n",
      "Epoch 36/200\n",
      "100/100 - 0s - loss: 15.4567 - 36ms/epoch - 358us/step\n",
      "Epoch 37/200\n",
      "100/100 - 0s - loss: 15.0407 - 34ms/epoch - 337us/step\n",
      "Epoch 38/200\n",
      "100/100 - 0s - loss: 14.6166 - 33ms/epoch - 333us/step\n",
      "Epoch 39/200\n",
      "100/100 - 0s - loss: 14.2090 - 33ms/epoch - 332us/step\n",
      "Epoch 40/200\n",
      "100/100 - 0s - loss: 13.8019 - 32ms/epoch - 320us/step\n",
      "Epoch 41/200\n",
      "100/100 - 0s - loss: 13.4060 - 33ms/epoch - 326us/step\n",
      "Epoch 42/200\n",
      "100/100 - 0s - loss: 13.0156 - 33ms/epoch - 331us/step\n",
      "Epoch 43/200\n",
      "100/100 - 0s - loss: 12.6354 - 32ms/epoch - 322us/step\n",
      "Epoch 44/200\n",
      "100/100 - 0s - loss: 12.2511 - 34ms/epoch - 335us/step\n",
      "Epoch 45/200\n",
      "100/100 - 0s - loss: 11.8870 - 33ms/epoch - 325us/step\n",
      "Epoch 46/200\n",
      "100/100 - 0s - loss: 11.5204 - 32ms/epoch - 324us/step\n",
      "Epoch 47/200\n",
      "100/100 - 0s - loss: 11.1663 - 33ms/epoch - 328us/step\n",
      "Epoch 48/200\n",
      "100/100 - 0s - loss: 10.8193 - 33ms/epoch - 334us/step\n",
      "Epoch 49/200\n",
      "100/100 - 0s - loss: 10.4774 - 33ms/epoch - 325us/step\n",
      "Epoch 50/200\n",
      "100/100 - 0s - loss: 10.1380 - 32ms/epoch - 318us/step\n",
      "Epoch 51/200\n",
      "100/100 - 0s - loss: 9.8068 - 33ms/epoch - 326us/step\n",
      "Epoch 52/200\n",
      "100/100 - 0s - loss: 9.4799 - 34ms/epoch - 342us/step\n",
      "Epoch 53/200\n",
      "100/100 - 0s - loss: 9.1646 - 34ms/epoch - 337us/step\n",
      "Epoch 54/200\n",
      "100/100 - 0s - loss: 8.8576 - 34ms/epoch - 336us/step\n",
      "Epoch 55/200\n",
      "100/100 - 0s - loss: 8.5563 - 36ms/epoch - 356us/step\n",
      "Epoch 56/200\n",
      "100/100 - 0s - loss: 8.2540 - 37ms/epoch - 375us/step\n",
      "Epoch 57/200\n",
      "100/100 - 0s - loss: 7.9632 - 34ms/epoch - 340us/step\n",
      "Epoch 58/200\n",
      "100/100 - 0s - loss: 7.6808 - 34ms/epoch - 342us/step\n",
      "Epoch 59/200\n",
      "100/100 - 0s - loss: 7.4010 - 35ms/epoch - 347us/step\n",
      "Epoch 60/200\n",
      "100/100 - 0s - loss: 7.1224 - 35ms/epoch - 346us/step\n",
      "Epoch 61/200\n",
      "100/100 - 0s - loss: 6.8594 - 38ms/epoch - 379us/step\n",
      "Epoch 62/200\n",
      "100/100 - 0s - loss: 6.5983 - 38ms/epoch - 377us/step\n",
      "Epoch 63/200\n",
      "100/100 - 0s - loss: 6.3417 - 37ms/epoch - 372us/step\n",
      "Epoch 64/200\n",
      "100/100 - 0s - loss: 6.0947 - 37ms/epoch - 373us/step\n",
      "Epoch 65/200\n",
      "100/100 - 0s - loss: 5.8548 - 37ms/epoch - 372us/step\n",
      "Epoch 66/200\n",
      "100/100 - 0s - loss: 5.6132 - 36ms/epoch - 365us/step\n",
      "Epoch 67/200\n",
      "100/100 - 0s - loss: 5.3820 - 35ms/epoch - 351us/step\n",
      "Epoch 68/200\n",
      "100/100 - 0s - loss: 5.1586 - 36ms/epoch - 357us/step\n",
      "Epoch 69/200\n",
      "100/100 - 0s - loss: 4.9387 - 33ms/epoch - 329us/step\n",
      "Epoch 70/200\n",
      "100/100 - 0s - loss: 4.7249 - 33ms/epoch - 329us/step\n",
      "Epoch 71/200\n",
      "100/100 - 0s - loss: 4.5184 - 33ms/epoch - 325us/step\n",
      "Epoch 72/200\n",
      "100/100 - 0s - loss: 4.3167 - 34ms/epoch - 342us/step\n",
      "Epoch 73/200\n",
      "100/100 - 0s - loss: 4.1221 - 33ms/epoch - 334us/step\n",
      "Epoch 74/200\n",
      "100/100 - 0s - loss: 3.9288 - 34ms/epoch - 344us/step\n",
      "Epoch 75/200\n",
      "100/100 - 0s - loss: 3.7426 - 34ms/epoch - 339us/step\n",
      "Epoch 76/200\n",
      "100/100 - 0s - loss: 3.5632 - 36ms/epoch - 359us/step\n",
      "Epoch 77/200\n",
      "100/100 - 0s - loss: 3.3870 - 33ms/epoch - 332us/step\n",
      "Epoch 78/200\n",
      "100/100 - 0s - loss: 3.2192 - 32ms/epoch - 324us/step\n",
      "Epoch 79/200\n",
      "100/100 - 0s - loss: 3.0544 - 34ms/epoch - 344us/step\n",
      "Epoch 80/200\n",
      "100/100 - 0s - loss: 2.8952 - 38ms/epoch - 383us/step\n",
      "Epoch 81/200\n",
      "100/100 - 0s - loss: 2.7414 - 37ms/epoch - 371us/step\n",
      "Epoch 82/200\n",
      "100/100 - 0s - loss: 2.5937 - 37ms/epoch - 369us/step\n",
      "Epoch 83/200\n",
      "100/100 - 0s - loss: 2.4504 - 36ms/epoch - 361us/step\n",
      "Epoch 84/200\n",
      "100/100 - 0s - loss: 2.3123 - 36ms/epoch - 363us/step\n",
      "Epoch 85/200\n",
      "100/100 - 0s - loss: 2.1789 - 36ms/epoch - 356us/step\n",
      "Epoch 86/200\n",
      "100/100 - 0s - loss: 2.0506 - 33ms/epoch - 326us/step\n",
      "Epoch 87/200\n",
      "100/100 - 0s - loss: 1.9264 - 35ms/epoch - 350us/step\n",
      "Epoch 88/200\n",
      "100/100 - 0s - loss: 1.8079 - 35ms/epoch - 352us/step\n",
      "Epoch 89/200\n",
      "100/100 - 0s - loss: 1.6936 - 35ms/epoch - 350us/step\n",
      "Epoch 90/200\n",
      "100/100 - 0s - loss: 1.5844 - 33ms/epoch - 333us/step\n",
      "Epoch 91/200\n",
      "100/100 - 0s - loss: 1.4812 - 35ms/epoch - 351us/step\n",
      "Epoch 92/200\n",
      "100/100 - 0s - loss: 1.3797 - 34ms/epoch - 344us/step\n",
      "Epoch 93/200\n",
      "100/100 - 0s - loss: 1.2843 - 35ms/epoch - 346us/step\n",
      "Epoch 94/200\n",
      "100/100 - 0s - loss: 1.1956 - 36ms/epoch - 363us/step\n",
      "Epoch 95/200\n",
      "100/100 - 0s - loss: 1.1064 - 32ms/epoch - 320us/step\n",
      "Epoch 96/200\n",
      "100/100 - 0s - loss: 1.0238 - 32ms/epoch - 325us/step\n",
      "Epoch 97/200\n",
      "100/100 - 0s - loss: 0.9459 - 32ms/epoch - 317us/step\n",
      "Epoch 98/200\n",
      "100/100 - 0s - loss: 0.8709 - 32ms/epoch - 324us/step\n",
      "Epoch 99/200\n",
      "100/100 - 0s - loss: 0.8009 - 32ms/epoch - 320us/step\n",
      "Epoch 100/200\n",
      "100/100 - 0s - loss: 0.7343 - 32ms/epoch - 321us/step\n",
      "Epoch 101/200\n",
      "100/100 - 0s - loss: 0.6714 - 32ms/epoch - 319us/step\n",
      "Epoch 102/200\n",
      "100/100 - 0s - loss: 0.6124 - 33ms/epoch - 329us/step\n",
      "Epoch 103/200\n",
      "100/100 - 0s - loss: 0.5569 - 32ms/epoch - 319us/step\n",
      "Epoch 104/200\n",
      "100/100 - 0s - loss: 0.5053 - 32ms/epoch - 322us/step\n",
      "Epoch 105/200\n",
      "100/100 - 0s - loss: 0.4558 - 32ms/epoch - 321us/step\n",
      "Epoch 106/200\n",
      "100/100 - 0s - loss: 0.4108 - 32ms/epoch - 319us/step\n",
      "Epoch 107/200\n",
      "100/100 - 0s - loss: 0.3693 - 32ms/epoch - 321us/step\n",
      "Epoch 108/200\n",
      "100/100 - 0s - loss: 0.3298 - 31ms/epoch - 315us/step\n",
      "Epoch 109/200\n",
      "100/100 - 0s - loss: 0.2941 - 32ms/epoch - 316us/step\n",
      "Epoch 110/200\n",
      "100/100 - 0s - loss: 0.2608 - 31ms/epoch - 308us/step\n",
      "Epoch 111/200\n",
      "100/100 - 0s - loss: 0.2303 - 33ms/epoch - 327us/step\n",
      "Epoch 112/200\n",
      "100/100 - 0s - loss: 0.2023 - 32ms/epoch - 325us/step\n",
      "Epoch 113/200\n",
      "100/100 - 0s - loss: 0.1773 - 32ms/epoch - 318us/step\n",
      "Epoch 114/200\n",
      "100/100 - 0s - loss: 0.1543 - 32ms/epoch - 323us/step\n",
      "Epoch 115/200\n",
      "100/100 - 0s - loss: 0.1337 - 32ms/epoch - 318us/step\n",
      "Epoch 116/200\n",
      "100/100 - 0s - loss: 0.1149 - 32ms/epoch - 322us/step\n",
      "Epoch 117/200\n",
      "100/100 - 0s - loss: 0.0986 - 32ms/epoch - 323us/step\n",
      "Epoch 118/200\n",
      "100/100 - 0s - loss: 0.0838 - 32ms/epoch - 317us/step\n",
      "Epoch 119/200\n",
      "100/100 - 0s - loss: 0.0706 - 32ms/epoch - 322us/step\n",
      "Epoch 120/200\n",
      "100/100 - 0s - loss: 0.0594 - 31ms/epoch - 315us/step\n",
      "Epoch 121/200\n",
      "100/100 - 0s - loss: 0.0493 - 31ms/epoch - 314us/step\n",
      "Epoch 122/200\n",
      "100/100 - 0s - loss: 0.0407 - 31ms/epoch - 311us/step\n",
      "Epoch 123/200\n",
      "100/100 - 0s - loss: 0.0333 - 33ms/epoch - 333us/step\n",
      "Epoch 124/200\n",
      "100/100 - 0s - loss: 0.0269 - 34ms/epoch - 342us/step\n",
      "Epoch 125/200\n",
      "100/100 - 0s - loss: 0.0217 - 32ms/epoch - 322us/step\n",
      "Epoch 126/200\n",
      "100/100 - 0s - loss: 0.0172 - 32ms/epoch - 319us/step\n",
      "Epoch 127/200\n",
      "100/100 - 0s - loss: 0.0135 - 31ms/epoch - 313us/step\n",
      "Epoch 128/200\n",
      "100/100 - 0s - loss: 0.0105 - 32ms/epoch - 320us/step\n",
      "Epoch 129/200\n",
      "100/100 - 0s - loss: 0.0081 - 31ms/epoch - 314us/step\n",
      "Epoch 130/200\n",
      "100/100 - 0s - loss: 0.0061 - 32ms/epoch - 322us/step\n",
      "Epoch 131/200\n",
      "100/100 - 0s - loss: 0.0046 - 32ms/epoch - 318us/step\n",
      "Epoch 132/200\n",
      "100/100 - 0s - loss: 0.0034 - 32ms/epoch - 316us/step\n",
      "Epoch 133/200\n",
      "100/100 - 0s - loss: 0.0024 - 32ms/epoch - 323us/step\n",
      "Epoch 134/200\n",
      "100/100 - 0s - loss: 0.0017 - 32ms/epoch - 321us/step\n",
      "Epoch 135/200\n",
      "100/100 - 0s - loss: 0.0012 - 32ms/epoch - 317us/step\n",
      "Epoch 136/200\n",
      "100/100 - 0s - loss: 8.4347e-04 - 32ms/epoch - 322us/step\n",
      "Epoch 137/200\n",
      "100/100 - 0s - loss: 5.6965e-04 - 31ms/epoch - 309us/step\n",
      "Epoch 138/200\n",
      "100/100 - 0s - loss: 3.7902e-04 - 32ms/epoch - 323us/step\n",
      "Epoch 139/200\n",
      "100/100 - 0s - loss: 2.4383e-04 - 32ms/epoch - 315us/step\n",
      "Epoch 140/200\n",
      "100/100 - 0s - loss: 1.5516e-04 - 32ms/epoch - 322us/step\n",
      "Epoch 141/200\n",
      "100/100 - 0s - loss: 9.5397e-05 - 32ms/epoch - 317us/step\n",
      "Epoch 142/200\n",
      "100/100 - 0s - loss: 5.7873e-05 - 32ms/epoch - 316us/step\n",
      "Epoch 143/200\n",
      "100/100 - 0s - loss: 3.4069e-05 - 31ms/epoch - 314us/step\n",
      "Epoch 144/200\n",
      "100/100 - 0s - loss: 1.9675e-05 - 32ms/epoch - 322us/step\n",
      "Epoch 145/200\n",
      "100/100 - 0s - loss: 1.0898e-05 - 32ms/epoch - 317us/step\n",
      "Epoch 146/200\n",
      "100/100 - 0s - loss: 5.7750e-06 - 52ms/epoch - 516us/step\n",
      "Epoch 147/200\n",
      "100/100 - 0s - loss: 3.0114e-06 - 32ms/epoch - 322us/step\n",
      "Epoch 148/200\n",
      "100/100 - 0s - loss: 1.5425e-06 - 32ms/epoch - 324us/step\n",
      "Epoch 149/200\n",
      "100/100 - 0s - loss: 7.4360e-07 - 32ms/epoch - 323us/step\n",
      "Epoch 150/200\n",
      "100/100 - 0s - loss: 3.4284e-07 - 32ms/epoch - 315us/step\n",
      "Epoch 151/200\n",
      "100/100 - 0s - loss: 1.5492e-07 - 32ms/epoch - 319us/step\n",
      "Epoch 152/200\n",
      "100/100 - 0s - loss: 6.5664e-08 - 31ms/epoch - 310us/step\n",
      "Epoch 153/200\n",
      "100/100 - 0s - loss: 2.6864e-08 - 33ms/epoch - 329us/step\n",
      "Epoch 154/200\n",
      "100/100 - 0s - loss: 1.0341e-08 - 32ms/epoch - 321us/step\n",
      "Epoch 155/200\n",
      "100/100 - 0s - loss: 3.8691e-09 - 31ms/epoch - 311us/step\n",
      "Epoch 156/200\n",
      "100/100 - 0s - loss: 1.6821e-09 - 32ms/epoch - 320us/step\n",
      "Epoch 157/200\n",
      "100/100 - 0s - loss: 8.2367e-10 - 32ms/epoch - 322us/step\n",
      "Epoch 158/200\n",
      "100/100 - 0s - loss: 6.7295e-10 - 32ms/epoch - 323us/step\n",
      "Epoch 159/200\n",
      "100/100 - 0s - loss: 5.4228e-10 - 32ms/epoch - 324us/step\n",
      "Epoch 160/200\n",
      "100/100 - 0s - loss: 3.9072e-10 - 31ms/epoch - 310us/step\n",
      "Epoch 161/200\n",
      "100/100 - 0s - loss: 3.5498e-10 - 32ms/epoch - 316us/step\n",
      "Epoch 162/200\n",
      "100/100 - 0s - loss: 3.1057e-10 - 32ms/epoch - 317us/step\n",
      "Epoch 163/200\n",
      "100/100 - 0s - loss: 2.3496e-10 - 36ms/epoch - 362us/step\n",
      "Epoch 164/200\n",
      "100/100 - 0s - loss: 2.2891e-10 - 32ms/epoch - 319us/step\n",
      "Epoch 165/200\n",
      "100/100 - 0s - loss: 1.9951e-10 - 32ms/epoch - 317us/step\n",
      "Epoch 166/200\n",
      "100/100 - 0s - loss: 1.7024e-10 - 32ms/epoch - 317us/step\n",
      "Epoch 167/200\n",
      "100/100 - 0s - loss: 1.3185e-10 - 32ms/epoch - 319us/step\n",
      "Epoch 168/200\n",
      "100/100 - 0s - loss: 1.3411e-10 - 32ms/epoch - 320us/step\n",
      "Epoch 169/200\n",
      "100/100 - 0s - loss: 1.3018e-10 - 33ms/epoch - 325us/step\n",
      "Epoch 170/200\n",
      "100/100 - 0s - loss: 1.3741e-10 - 32ms/epoch - 320us/step\n",
      "Epoch 171/200\n",
      "100/100 - 0s - loss: 1.3061e-10 - 31ms/epoch - 312us/step\n",
      "Epoch 172/200\n",
      "100/100 - 0s - loss: 1.2604e-10 - 31ms/epoch - 313us/step\n",
      "Epoch 173/200\n",
      "100/100 - 0s - loss: 1.0498e-10 - 31ms/epoch - 311us/step\n",
      "Epoch 174/200\n",
      "100/100 - 0s - loss: 9.9341e-11 - 32ms/epoch - 324us/step\n",
      "Epoch 175/200\n",
      "100/100 - 0s - loss: 6.0227e-11 - 32ms/epoch - 321us/step\n",
      "Epoch 176/200\n",
      "100/100 - 0s - loss: 5.1651e-11 - 32ms/epoch - 320us/step\n",
      "Epoch 177/200\n",
      "100/100 - 0s - loss: 4.5372e-11 - 32ms/epoch - 323us/step\n",
      "Epoch 178/200\n",
      "100/100 - 0s - loss: 4.5867e-11 - 31ms/epoch - 312us/step\n",
      "Epoch 179/200\n",
      "100/100 - 0s - loss: 3.4922e-11 - 31ms/epoch - 313us/step\n",
      "Epoch 180/200\n",
      "100/100 - 0s - loss: 3.3136e-11 - 32ms/epoch - 320us/step\n",
      "Epoch 181/200\n",
      "100/100 - 0s - loss: 3.3541e-11 - 32ms/epoch - 320us/step\n",
      "Epoch 182/200\n",
      "100/100 - 0s - loss: 3.2855e-11 - 34ms/epoch - 344us/step\n",
      "Epoch 183/200\n",
      "100/100 - 0s - loss: 1.6617e-11 - 32ms/epoch - 319us/step\n",
      "Epoch 184/200\n",
      "100/100 - 0s - loss: 1.4582e-11 - 32ms/epoch - 322us/step\n",
      "Epoch 185/200\n",
      "100/100 - 0s - loss: 1.4667e-11 - 33ms/epoch - 325us/step\n",
      "Epoch 186/200\n",
      "100/100 - 0s - loss: 1.5042e-11 - 31ms/epoch - 308us/step\n",
      "Epoch 187/200\n",
      "100/100 - 0s - loss: 1.7556e-11 - 32ms/epoch - 323us/step\n",
      "Epoch 188/200\n",
      "100/100 - 0s - loss: 1.5760e-11 - 33ms/epoch - 333us/step\n",
      "Epoch 189/200\n",
      "100/100 - 0s - loss: 1.5533e-11 - 34ms/epoch - 341us/step\n",
      "Epoch 190/200\n",
      "100/100 - 0s - loss: 1.5784e-11 - 36ms/epoch - 363us/step\n",
      "Epoch 191/200\n",
      "100/100 - 0s - loss: 1.5702e-11 - 35ms/epoch - 347us/step\n",
      "Epoch 192/200\n",
      "100/100 - 0s - loss: 1.6419e-11 - 34ms/epoch - 341us/step\n",
      "Epoch 193/200\n",
      "100/100 - 0s - loss: 8.8488e-12 - 32ms/epoch - 320us/step\n",
      "Epoch 194/200\n",
      "100/100 - 0s - loss: 7.2110e-12 - 33ms/epoch - 330us/step\n",
      "Epoch 195/200\n",
      "100/100 - 0s - loss: 5.7696e-12 - 33ms/epoch - 334us/step\n",
      "Epoch 196/200\n",
      "100/100 - 0s - loss: 5.5453e-12 - 32ms/epoch - 320us/step\n",
      "Epoch 197/200\n",
      "100/100 - 0s - loss: 6.5697e-12 - 33ms/epoch - 331us/step\n",
      "Epoch 198/200\n",
      "100/100 - 0s - loss: 6.4332e-12 - 32ms/epoch - 318us/step\n",
      "Epoch 199/200\n",
      "100/100 - 0s - loss: 4.2709e-12 - 32ms/epoch - 317us/step\n",
      "Epoch 200/200\n",
      "100/100 - 0s - loss: 3.8346e-12 - 32ms/epoch - 317us/step\n"
     ]
    },
    {
     "data": {
      "text/plain": [
       "<keras.src.callbacks.History at 0x28c102950>"
      ]
     },
     "execution_count": 7,
     "metadata": {},
     "output_type": "execute_result"
    }
   ],
   "source": [
    "model.fit(X, y, batch_size=1, epochs=200, verbose=2) # * Lo hacemos one-to-one, no hacemos stochastic gradient descent. Y aplicamos 200 epochs. "
   ]
  },
  {
   "cell_type": "markdown",
   "id": "9022f7de-c7fc-4360-9688-d0bfb8740f92",
   "metadata": {},
   "source": [
    "Podemos ver los pesos que ha entrenado la red."
   ]
  },
  {
   "cell_type": "code",
   "execution_count": 8,
   "id": "105b6997-210d-4804-a174-33bb933e13f0",
   "metadata": {},
   "outputs": [
    {
     "name": "stdout",
     "output_type": "stream",
     "text": [
      "[[ 5]\n",
      " [-1]\n",
      " [ 0]\n",
      " [-2]\n",
      " [ 1]]\n",
      "[2]\n"
     ]
    }
   ],
   "source": [
    "model.layers[1].weights\n",
    "\n",
    "for weight in model.layers[1].get_weights():\n",
    "    weight_array_integer = np.rint(weight).astype(int)  # Round to nearest int and convert\n",
    "    print(weight_array_integer)\n",
    "\n",
    "# * Which if we compare to the model, is exactly it! Yeyyyy"
   ]
  },
  {
   "cell_type": "markdown",
   "id": "cf790a05-44e3-47c6-b89f-9fb26db0335b",
   "metadata": {},
   "source": [
    "Comparamos los resultados con los pesos originales en el modelo:"
   ]
  },
  {
   "cell_type": "code",
   "execution_count": 9,
   "id": "2262d119-658a-4d79-a97c-a4cf18dd0751",
   "metadata": {},
   "outputs": [
    {
     "data": {
      "image/png": "[encoded data removed]",
      "text/plain": [
       "<Figure size 640x480 with 1 Axes>"
      ]
     },
     "metadata": {},
     "output_type": "display_data"
    }
   ],
   "source": [
    "pd_results = pd.DataFrame([(f\"w_{i}\", weights[i], model.layers[1].weights[0].numpy()[i][0]) for i in range(len(weights))] + [(\"bias\", bias, model.layers[1].weights[1].numpy()[0])],\n",
    "                         columns=[\"param\", \"original\", \"estimado\"])\n",
    "pd_results.set_index(\"param\").plot.bar();"
   ]
  },
  {
   "cell_type": "markdown",
   "id": "e033f266-0bba-4d9c-b493-f838ecffad3e",
   "metadata": {},
   "source": [
    "# Modelo de clasificación binaria\n",
    "\n",
    "Ahora construimos un modelo de clasificación basado en dos variables."
   ]
  },
  {
   "cell_type": "code",
   "execution_count": 10,
   "id": "4463c144-c955-4533-b6b5-35c82a07cddd",
   "metadata": {},
   "outputs": [],
   "source": [
    "# Parámetros del modelo\n",
    "weights = np.asarray([0.3, -0.2])\n",
    "bias = 0.1"
   ]
  },
  {
   "cell_type": "code",
   "execution_count": 11,
   "id": "3ce3bd47-6e3d-47a6-954b-c4b0daeca373",
   "metadata": {},
   "outputs": [],
   "source": [
    "X = np.random.randn(500, 2) # Generamos features sintéticas # * y = 0.3 x_1 - 0.2 x_2\n",
    "y = ((np.matmul(X, weights) +  bias) > 0).astype(\"int\") # Generamos los targets"
   ]
  },
  {
   "cell_type": "code",
   "execution_count": 12,
   "id": "1aa097e6-d9ea-45e0-b4ef-543fbfb2a98f",
   "metadata": {},
   "outputs": [
    {
     "name": "stdout",
     "output_type": "stream",
     "text": [
      "Ecuacion de la recta que separa las clases: y = 1.4999999999999998 * x + -0.5\n"
     ]
    },
    {
     "data": {
      "image/png": "[encoded data removed]",
      "text/plain": [
       "<Figure size 640x480 with 1 Axes>"
      ]
     },
     "metadata": {},
     "output_type": "display_data"
    }
   ],
   "source": [
    "plt.scatter(X[y == 0, 0], X[y == 0, 1], label=\"zeros\")\n",
    "plt.scatter(X[y == 1, 0], X[y == 1, 1], label=\"ones\")\n",
    "\n",
    "# * plot line\n",
    "xs = np.linspace(-3, 3, 100)\n",
    "m = - weights[0] / weights[1]\n",
    "n = bias / weights[1]\n",
    "print(f\"Ecuacion de la recta que separa las clases: y = {m} * x + {n}\")\n",
    "ys =  m * xs - n\n",
    "\n",
    "\n",
    "plt.plot(xs, ys, \"r--\", label=\"frontier\")\n",
    "plt.legend();"
   ]
  },
  {
   "cell_type": "code",
   "execution_count": 13,
   "id": "2893ead0-1331-4a5f-aef7-53f521149254",
   "metadata": {},
   "outputs": [],
   "source": [
    "input_ = keras.layers.Input(2)\n",
    "x = keras.layers.Dense(1, activation=\"sigmoid\")(input_) # La variable de salida es binaria, asi que ponemos una sigmoide como función de activación\n",
    "\n",
    "model = keras.models.Model(input_, x)"
   ]
  },
  {
   "cell_type": "code",
   "execution_count": 14,
   "id": "91d7c4fa-8221-4dc3-9d81-0a4f43d42ad0",
   "metadata": {},
   "outputs": [],
   "source": [
    "model.compile(\"adam\", \"binary_crossentropy\") # Ahora la loss funtion debe ser la binary crossentropy"
   ]
  },
  {
   "cell_type": "code",
   "execution_count": 15,
   "id": "bc193a65-64b7-459a-b2e5-1bc6a059c667",
   "metadata": {},
   "outputs": [
    {
     "name": "stdout",
     "output_type": "stream",
     "text": [
      "Epoch 1/200\n"
     ]
    },
    {
     "name": "stdout",
     "output_type": "stream",
     "text": [
      "500/500 - 0s - loss: 0.4211 - 270ms/epoch - 539us/step\n",
      "Epoch 2/200\n",
      "500/500 - 0s - loss: 0.3618 - 163ms/epoch - 327us/step\n",
      "Epoch 3/200\n",
      "500/500 - 0s - loss: 0.3204 - 164ms/epoch - 328us/step\n",
      "Epoch 4/200\n",
      "500/500 - 0s - loss: 0.2898 - 165ms/epoch - 329us/step\n",
      "Epoch 5/200\n",
      "500/500 - 0s - loss: 0.2663 - 166ms/epoch - 332us/step\n",
      "Epoch 6/200\n",
      "500/500 - 0s - loss: 0.2475 - 163ms/epoch - 327us/step\n",
      "Epoch 7/200\n",
      "500/500 - 0s - loss: 0.2321 - 164ms/epoch - 328us/step\n",
      "Epoch 8/200\n",
      "500/500 - 0s - loss: 0.2190 - 164ms/epoch - 329us/step\n",
      "Epoch 9/200\n",
      "500/500 - 0s - loss: 0.2079 - 164ms/epoch - 328us/step\n",
      "Epoch 10/200\n",
      "500/500 - 0s - loss: 0.1982 - 163ms/epoch - 326us/step\n",
      "Epoch 11/200\n",
      "500/500 - 0s - loss: 0.1897 - 163ms/epoch - 326us/step\n",
      "Epoch 12/200\n",
      "500/500 - 0s - loss: 0.1821 - 170ms/epoch - 340us/step\n",
      "Epoch 13/200\n",
      "500/500 - 0s - loss: 0.1755 - 174ms/epoch - 348us/step\n",
      "Epoch 14/200\n",
      "500/500 - 0s - loss: 0.1695 - 175ms/epoch - 349us/step\n",
      "Epoch 15/200\n",
      "500/500 - 0s - loss: 0.1641 - 171ms/epoch - 342us/step\n",
      "Epoch 16/200\n",
      "500/500 - 0s - loss: 0.1591 - 170ms/epoch - 340us/step\n",
      "Epoch 17/200\n",
      "500/500 - 0s - loss: 0.1546 - 163ms/epoch - 326us/step\n",
      "Epoch 18/200\n",
      "500/500 - 0s - loss: 0.1504 - 170ms/epoch - 339us/step\n",
      "Epoch 19/200\n",
      "500/500 - 0s - loss: 0.1466 - 168ms/epoch - 336us/step\n",
      "Epoch 20/200\n",
      "500/500 - 0s - loss: 0.1431 - 164ms/epoch - 328us/step\n",
      "Epoch 21/200\n",
      "500/500 - 0s - loss: 0.1398 - 174ms/epoch - 348us/step\n",
      "Epoch 22/200\n",
      "500/500 - 0s - loss: 0.1368 - 176ms/epoch - 352us/step\n",
      "Epoch 23/200\n",
      "500/500 - 0s - loss: 0.1339 - 171ms/epoch - 343us/step\n",
      "Epoch 24/200\n",
      "500/500 - 0s - loss: 0.1312 - 165ms/epoch - 330us/step\n",
      "Epoch 25/200\n",
      "500/500 - 0s - loss: 0.1288 - 172ms/epoch - 344us/step\n",
      "Epoch 26/200\n",
      "500/500 - 0s - loss: 0.1266 - 175ms/epoch - 350us/step\n",
      "Epoch 27/200\n",
      "500/500 - 0s - loss: 0.1243 - 172ms/epoch - 344us/step\n",
      "Epoch 28/200\n",
      "500/500 - 0s - loss: 0.1222 - 172ms/epoch - 344us/step\n",
      "Epoch 29/200\n",
      "500/500 - 0s - loss: 0.1203 - 176ms/epoch - 352us/step\n",
      "Epoch 30/200\n",
      "500/500 - 0s - loss: 0.1184 - 170ms/epoch - 341us/step\n",
      "Epoch 31/200\n",
      "500/500 - 0s - loss: 0.1166 - 166ms/epoch - 331us/step\n",
      "Epoch 32/200\n",
      "500/500 - 0s - loss: 0.1150 - 170ms/epoch - 340us/step\n",
      "Epoch 33/200\n",
      "500/500 - 0s - loss: 0.1133 - 170ms/epoch - 339us/step\n",
      "Epoch 34/200\n",
      "500/500 - 0s - loss: 0.1118 - 164ms/epoch - 327us/step\n",
      "Epoch 35/200\n",
      "500/500 - 0s - loss: 0.1104 - 163ms/epoch - 326us/step\n",
      "Epoch 36/200\n",
      "500/500 - 0s - loss: 0.1090 - 165ms/epoch - 330us/step\n",
      "Epoch 37/200\n",
      "500/500 - 0s - loss: 0.1077 - 197ms/epoch - 394us/step\n",
      "Epoch 38/200\n",
      "500/500 - 0s - loss: 0.1064 - 173ms/epoch - 345us/step\n",
      "Epoch 39/200\n",
      "500/500 - 0s - loss: 0.1052 - 165ms/epoch - 331us/step\n",
      "Epoch 40/200\n",
      "500/500 - 0s - loss: 0.1040 - 164ms/epoch - 329us/step\n",
      "Epoch 41/200\n",
      "500/500 - 0s - loss: 0.1028 - 173ms/epoch - 347us/step\n",
      "Epoch 42/200\n",
      "500/500 - 0s - loss: 0.1017 - 176ms/epoch - 352us/step\n",
      "Epoch 43/200\n",
      "500/500 - 0s - loss: 0.1007 - 236ms/epoch - 473us/step\n",
      "Epoch 44/200\n",
      "500/500 - 0s - loss: 0.0997 - 176ms/epoch - 352us/step\n",
      "Epoch 45/200\n",
      "500/500 - 0s - loss: 0.0987 - 173ms/epoch - 346us/step\n",
      "Epoch 46/200\n",
      "500/500 - 0s - loss: 0.0978 - 169ms/epoch - 338us/step\n",
      "Epoch 47/200\n",
      "500/500 - 0s - loss: 0.0969 - 167ms/epoch - 335us/step\n",
      "Epoch 48/200\n",
      "500/500 - 0s - loss: 0.0960 - 175ms/epoch - 350us/step\n",
      "Epoch 49/200\n",
      "500/500 - 0s - loss: 0.0952 - 169ms/epoch - 338us/step\n",
      "Epoch 50/200\n",
      "500/500 - 0s - loss: 0.0944 - 164ms/epoch - 328us/step\n",
      "Epoch 51/200\n",
      "500/500 - 0s - loss: 0.0936 - 161ms/epoch - 323us/step\n",
      "Epoch 52/200\n",
      "500/500 - 0s - loss: 0.0928 - 163ms/epoch - 327us/step\n",
      "Epoch 53/200\n",
      "500/500 - 0s - loss: 0.0921 - 163ms/epoch - 326us/step\n",
      "Epoch 54/200\n",
      "500/500 - 0s - loss: 0.0914 - 175ms/epoch - 350us/step\n",
      "Epoch 55/200\n",
      "500/500 - 0s - loss: 0.0906 - 173ms/epoch - 346us/step\n",
      "Epoch 56/200\n",
      "500/500 - 0s - loss: 0.0899 - 176ms/epoch - 352us/step\n",
      "Epoch 57/200\n",
      "500/500 - 0s - loss: 0.0893 - 196ms/epoch - 393us/step\n",
      "Epoch 58/200\n",
      "500/500 - 0s - loss: 0.0886 - 189ms/epoch - 377us/step\n",
      "Epoch 59/200\n",
      "500/500 - 0s - loss: 0.0880 - 198ms/epoch - 396us/step\n",
      "Epoch 60/200\n",
      "500/500 - 0s - loss: 0.0874 - 204ms/epoch - 408us/step\n",
      "Epoch 61/200\n",
      "500/500 - 0s - loss: 0.0868 - 207ms/epoch - 415us/step\n",
      "Epoch 62/200\n",
      "500/500 - 0s - loss: 0.0863 - 182ms/epoch - 363us/step\n",
      "Epoch 63/200\n",
      "500/500 - 0s - loss: 0.0856 - 183ms/epoch - 365us/step\n",
      "Epoch 64/200\n",
      "500/500 - 0s - loss: 0.0851 - 190ms/epoch - 380us/step\n",
      "Epoch 65/200\n",
      "500/500 - 0s - loss: 0.0846 - 175ms/epoch - 351us/step\n",
      "Epoch 66/200\n",
      "500/500 - 0s - loss: 0.0840 - 169ms/epoch - 337us/step\n",
      "Epoch 67/200\n",
      "500/500 - 0s - loss: 0.0835 - 176ms/epoch - 351us/step\n",
      "Epoch 68/200\n",
      "500/500 - 0s - loss: 0.0830 - 173ms/epoch - 346us/step\n",
      "Epoch 69/200\n",
      "500/500 - 0s - loss: 0.0825 - 224ms/epoch - 448us/step\n",
      "Epoch 70/200\n",
      "500/500 - 0s - loss: 0.0820 - 187ms/epoch - 375us/step\n",
      "Epoch 71/200\n",
      "500/500 - 0s - loss: 0.0816 - 180ms/epoch - 360us/step\n",
      "Epoch 72/200\n",
      "500/500 - 0s - loss: 0.0811 - 178ms/epoch - 356us/step\n",
      "Epoch 73/200\n",
      "500/500 - 0s - loss: 0.0807 - 184ms/epoch - 369us/step\n",
      "Epoch 74/200\n",
      "500/500 - 0s - loss: 0.0802 - 186ms/epoch - 372us/step\n",
      "Epoch 75/200\n",
      "500/500 - 0s - loss: 0.0798 - 177ms/epoch - 354us/step\n",
      "Epoch 76/200\n",
      "500/500 - 0s - loss: 0.0794 - 169ms/epoch - 338us/step\n",
      "Epoch 77/200\n",
      "500/500 - 0s - loss: 0.0790 - 169ms/epoch - 338us/step\n",
      "Epoch 78/200\n",
      "500/500 - 0s - loss: 0.0786 - 178ms/epoch - 356us/step\n",
      "Epoch 79/200\n",
      "500/500 - 0s - loss: 0.0782 - 175ms/epoch - 349us/step\n",
      "Epoch 80/200\n",
      "500/500 - 0s - loss: 0.0778 - 216ms/epoch - 432us/step\n",
      "Epoch 81/200\n",
      "500/500 - 0s - loss: 0.0774 - 172ms/epoch - 345us/step\n",
      "Epoch 82/200\n",
      "500/500 - 0s - loss: 0.0770 - 178ms/epoch - 356us/step\n",
      "Epoch 83/200\n",
      "500/500 - 0s - loss: 0.0766 - 198ms/epoch - 397us/step\n",
      "Epoch 84/200\n",
      "500/500 - 0s - loss: 0.0763 - 165ms/epoch - 329us/step\n",
      "Epoch 85/200\n",
      "500/500 - 0s - loss: 0.0759 - 168ms/epoch - 336us/step\n",
      "Epoch 86/200\n",
      "500/500 - 0s - loss: 0.0756 - 171ms/epoch - 342us/step\n",
      "Epoch 87/200\n",
      "500/500 - 0s - loss: 0.0752 - 169ms/epoch - 337us/step\n",
      "Epoch 88/200\n",
      "500/500 - 0s - loss: 0.0749 - 194ms/epoch - 387us/step\n",
      "Epoch 89/200\n",
      "500/500 - 0s - loss: 0.0746 - 177ms/epoch - 354us/step\n",
      "Epoch 90/200\n",
      "500/500 - 0s - loss: 0.0743 - 170ms/epoch - 340us/step\n",
      "Epoch 91/200\n",
      "500/500 - 0s - loss: 0.0739 - 166ms/epoch - 331us/step\n",
      "Epoch 92/200\n",
      "500/500 - 0s - loss: 0.0736 - 203ms/epoch - 407us/step\n",
      "Epoch 93/200\n",
      "500/500 - 0s - loss: 0.0733 - 179ms/epoch - 358us/step\n",
      "Epoch 94/200\n",
      "500/500 - 0s - loss: 0.0731 - 167ms/epoch - 335us/step\n",
      "Epoch 95/200\n",
      "500/500 - 0s - loss: 0.0727 - 180ms/epoch - 359us/step\n",
      "Epoch 96/200\n",
      "500/500 - 0s - loss: 0.0724 - 205ms/epoch - 410us/step\n",
      "Epoch 97/200\n",
      "500/500 - 0s - loss: 0.0721 - 176ms/epoch - 352us/step\n",
      "Epoch 98/200\n",
      "500/500 - 0s - loss: 0.0718 - 183ms/epoch - 366us/step\n",
      "Epoch 99/200\n",
      "500/500 - 0s - loss: 0.0716 - 168ms/epoch - 337us/step\n",
      "Epoch 100/200\n",
      "500/500 - 0s - loss: 0.0713 - 175ms/epoch - 351us/step\n",
      "Epoch 101/200\n",
      "500/500 - 0s - loss: 0.0710 - 173ms/epoch - 345us/step\n",
      "Epoch 102/200\n",
      "500/500 - 0s - loss: 0.0708 - 174ms/epoch - 348us/step\n",
      "Epoch 103/200\n",
      "500/500 - 0s - loss: 0.0705 - 179ms/epoch - 358us/step\n",
      "Epoch 104/200\n",
      "500/500 - 0s - loss: 0.0703 - 172ms/epoch - 344us/step\n",
      "Epoch 105/200\n",
      "500/500 - 0s - loss: 0.0700 - 163ms/epoch - 327us/step\n",
      "Epoch 106/200\n",
      "500/500 - 0s - loss: 0.0698 - 190ms/epoch - 379us/step\n",
      "Epoch 107/200\n",
      "500/500 - 0s - loss: 0.0695 - 164ms/epoch - 327us/step\n",
      "Epoch 108/200\n",
      "500/500 - 0s - loss: 0.0693 - 207ms/epoch - 414us/step\n",
      "Epoch 109/200\n",
      "500/500 - 0s - loss: 0.0690 - 190ms/epoch - 381us/step\n",
      "Epoch 110/200\n",
      "500/500 - 0s - loss: 0.0688 - 194ms/epoch - 388us/step\n",
      "Epoch 111/200\n",
      "500/500 - 0s - loss: 0.0685 - 175ms/epoch - 350us/step\n",
      "Epoch 112/200\n",
      "500/500 - 0s - loss: 0.0683 - 181ms/epoch - 361us/step\n",
      "Epoch 113/200\n",
      "500/500 - 0s - loss: 0.0681 - 177ms/epoch - 354us/step\n",
      "Epoch 114/200\n",
      "500/500 - 0s - loss: 0.0679 - 180ms/epoch - 360us/step\n",
      "Epoch 115/200\n",
      "500/500 - 0s - loss: 0.0676 - 200ms/epoch - 399us/step\n",
      "Epoch 116/200\n",
      "500/500 - 0s - loss: 0.0674 - 180ms/epoch - 360us/step\n",
      "Epoch 117/200\n",
      "500/500 - 0s - loss: 0.0672 - 179ms/epoch - 359us/step\n",
      "Epoch 118/200\n",
      "500/500 - 0s - loss: 0.0670 - 171ms/epoch - 342us/step\n",
      "Epoch 119/200\n",
      "500/500 - 0s - loss: 0.0668 - 171ms/epoch - 341us/step\n",
      "Epoch 120/200\n",
      "500/500 - 0s - loss: 0.0666 - 203ms/epoch - 405us/step\n",
      "Epoch 121/200\n",
      "500/500 - 0s - loss: 0.0664 - 176ms/epoch - 351us/step\n",
      "Epoch 122/200\n",
      "500/500 - 0s - loss: 0.0662 - 171ms/epoch - 342us/step\n",
      "Epoch 123/200\n",
      "500/500 - 0s - loss: 0.0660 - 175ms/epoch - 350us/step\n",
      "Epoch 124/200\n",
      "500/500 - 0s - loss: 0.0658 - 175ms/epoch - 350us/step\n",
      "Epoch 125/200\n",
      "500/500 - 0s - loss: 0.0656 - 178ms/epoch - 356us/step\n",
      "Epoch 126/200\n",
      "500/500 - 0s - loss: 0.0654 - 171ms/epoch - 342us/step\n",
      "Epoch 127/200\n",
      "500/500 - 0s - loss: 0.0652 - 183ms/epoch - 366us/step\n",
      "Epoch 128/200\n",
      "500/500 - 0s - loss: 0.0650 - 174ms/epoch - 347us/step\n",
      "Epoch 129/200\n",
      "500/500 - 0s - loss: 0.0648 - 171ms/epoch - 342us/step\n",
      "Epoch 130/200\n",
      "500/500 - 0s - loss: 0.0647 - 169ms/epoch - 338us/step\n",
      "Epoch 131/200\n",
      "500/500 - 0s - loss: 0.0645 - 176ms/epoch - 351us/step\n",
      "Epoch 132/200\n",
      "500/500 - 0s - loss: 0.0643 - 164ms/epoch - 327us/step\n",
      "Epoch 133/200\n",
      "500/500 - 0s - loss: 0.0641 - 211ms/epoch - 423us/step\n",
      "Epoch 134/200\n",
      "500/500 - 0s - loss: 0.0640 - 172ms/epoch - 343us/step\n",
      "Epoch 135/200\n",
      "500/500 - 0s - loss: 0.0638 - 174ms/epoch - 347us/step\n",
      "Epoch 136/200\n",
      "500/500 - 0s - loss: 0.0636 - 171ms/epoch - 342us/step\n",
      "Epoch 137/200\n",
      "500/500 - 0s - loss: 0.0634 - 171ms/epoch - 341us/step\n",
      "Epoch 138/200\n",
      "500/500 - 0s - loss: 0.0633 - 171ms/epoch - 341us/step\n",
      "Epoch 139/200\n",
      "500/500 - 0s - loss: 0.0631 - 170ms/epoch - 340us/step\n",
      "Epoch 140/200\n",
      "500/500 - 0s - loss: 0.0629 - 179ms/epoch - 358us/step\n",
      "Epoch 141/200\n",
      "500/500 - 0s - loss: 0.0628 - 169ms/epoch - 339us/step\n",
      "Epoch 142/200\n",
      "500/500 - 0s - loss: 0.0626 - 171ms/epoch - 342us/step\n",
      "Epoch 143/200\n",
      "500/500 - 0s - loss: 0.0625 - 170ms/epoch - 339us/step\n",
      "Epoch 144/200\n",
      "500/500 - 0s - loss: 0.0623 - 170ms/epoch - 340us/step\n",
      "Epoch 145/200\n",
      "500/500 - 0s - loss: 0.0622 - 170ms/epoch - 341us/step\n",
      "Epoch 146/200\n",
      "500/500 - 0s - loss: 0.0620 - 194ms/epoch - 387us/step\n",
      "Epoch 147/200\n",
      "500/500 - 0s - loss: 0.0619 - 182ms/epoch - 364us/step\n",
      "Epoch 148/200\n",
      "500/500 - 0s - loss: 0.0617 - 173ms/epoch - 346us/step\n",
      "Epoch 149/200\n",
      "500/500 - 0s - loss: 0.0616 - 179ms/epoch - 358us/step\n",
      "Epoch 150/200\n",
      "500/500 - 0s - loss: 0.0614 - 166ms/epoch - 333us/step\n",
      "Epoch 151/200\n",
      "500/500 - 0s - loss: 0.0613 - 178ms/epoch - 356us/step\n",
      "Epoch 152/200\n",
      "500/500 - 0s - loss: 0.0611 - 173ms/epoch - 346us/step\n",
      "Epoch 153/200\n",
      "500/500 - 0s - loss: 0.0610 - 176ms/epoch - 353us/step\n",
      "Epoch 154/200\n",
      "500/500 - 0s - loss: 0.0608 - 165ms/epoch - 329us/step\n",
      "Epoch 155/200\n",
      "500/500 - 0s - loss: 0.0606 - 172ms/epoch - 343us/step\n",
      "Epoch 156/200\n",
      "500/500 - 0s - loss: 0.0605 - 171ms/epoch - 343us/step\n",
      "Epoch 157/200\n",
      "500/500 - 0s - loss: 0.0604 - 184ms/epoch - 369us/step\n",
      "Epoch 158/200\n",
      "500/500 - 0s - loss: 0.0603 - 193ms/epoch - 385us/step\n",
      "Epoch 159/200\n",
      "500/500 - 0s - loss: 0.0602 - 180ms/epoch - 359us/step\n",
      "Epoch 160/200\n",
      "500/500 - 0s - loss: 0.0600 - 167ms/epoch - 333us/step\n",
      "Epoch 161/200\n",
      "500/500 - 0s - loss: 0.0599 - 170ms/epoch - 339us/step\n",
      "Epoch 162/200\n",
      "500/500 - 0s - loss: 0.0597 - 165ms/epoch - 330us/step\n",
      "Epoch 163/200\n",
      "500/500 - 0s - loss: 0.0596 - 167ms/epoch - 334us/step\n",
      "Epoch 164/200\n",
      "500/500 - 0s - loss: 0.0595 - 165ms/epoch - 331us/step\n",
      "Epoch 165/200\n",
      "500/500 - 0s - loss: 0.0593 - 166ms/epoch - 333us/step\n",
      "Epoch 166/200\n",
      "500/500 - 0s - loss: 0.0592 - 159ms/epoch - 319us/step\n",
      "Epoch 167/200\n",
      "500/500 - 0s - loss: 0.0591 - 172ms/epoch - 345us/step\n",
      "Epoch 168/200\n",
      "500/500 - 0s - loss: 0.0589 - 158ms/epoch - 317us/step\n",
      "Epoch 169/200\n",
      "500/500 - 0s - loss: 0.0589 - 192ms/epoch - 384us/step\n",
      "Epoch 170/200\n",
      "500/500 - 0s - loss: 0.0587 - 164ms/epoch - 328us/step\n",
      "Epoch 171/200\n",
      "500/500 - 0s - loss: 0.0586 - 162ms/epoch - 324us/step\n",
      "Epoch 172/200\n",
      "500/500 - 0s - loss: 0.0585 - 164ms/epoch - 328us/step\n",
      "Epoch 173/200\n",
      "500/500 - 0s - loss: 0.0583 - 163ms/epoch - 325us/step\n",
      "Epoch 174/200\n",
      "500/500 - 0s - loss: 0.0583 - 163ms/epoch - 326us/step\n",
      "Epoch 175/200\n",
      "500/500 - 0s - loss: 0.0581 - 163ms/epoch - 326us/step\n",
      "Epoch 176/200\n",
      "500/500 - 0s - loss: 0.0580 - 162ms/epoch - 325us/step\n",
      "Epoch 177/200\n",
      "500/500 - 0s - loss: 0.0579 - 161ms/epoch - 321us/step\n",
      "Epoch 178/200\n",
      "500/500 - 0s - loss: 0.0578 - 163ms/epoch - 326us/step\n",
      "Epoch 179/200\n",
      "500/500 - 0s - loss: 0.0577 - 163ms/epoch - 327us/step\n",
      "Epoch 180/200\n",
      "500/500 - 0s - loss: 0.0576 - 163ms/epoch - 325us/step\n",
      "Epoch 181/200\n",
      "500/500 - 0s - loss: 0.0575 - 162ms/epoch - 325us/step\n",
      "Epoch 182/200\n",
      "500/500 - 0s - loss: 0.0573 - 161ms/epoch - 321us/step\n",
      "Epoch 183/200\n",
      "500/500 - 0s - loss: 0.0572 - 187ms/epoch - 374us/step\n",
      "Epoch 184/200\n",
      "500/500 - 0s - loss: 0.0571 - 171ms/epoch - 342us/step\n",
      "Epoch 185/200\n",
      "500/500 - 0s - loss: 0.0570 - 171ms/epoch - 342us/step\n",
      "Epoch 186/200\n",
      "500/500 - 0s - loss: 0.0570 - 166ms/epoch - 332us/step\n",
      "Epoch 187/200\n",
      "500/500 - 0s - loss: 0.0568 - 184ms/epoch - 367us/step\n",
      "Epoch 188/200\n",
      "500/500 - 0s - loss: 0.0567 - 164ms/epoch - 328us/step\n",
      "Epoch 189/200\n",
      "500/500 - 0s - loss: 0.0566 - 193ms/epoch - 386us/step\n",
      "Epoch 190/200\n",
      "500/500 - 0s - loss: 0.0565 - 170ms/epoch - 339us/step\n",
      "Epoch 191/200\n",
      "500/500 - 0s - loss: 0.0564 - 172ms/epoch - 344us/step\n",
      "Epoch 192/200\n",
      "500/500 - 0s - loss: 0.0563 - 162ms/epoch - 325us/step\n",
      "Epoch 193/200\n",
      "500/500 - 0s - loss: 0.0562 - 169ms/epoch - 338us/step\n",
      "Epoch 194/200\n",
      "500/500 - 0s - loss: 0.0561 - 200ms/epoch - 400us/step\n",
      "Epoch 195/200\n",
      "500/500 - 0s - loss: 0.0560 - 173ms/epoch - 345us/step\n",
      "Epoch 196/200\n",
      "500/500 - 0s - loss: 0.0559 - 178ms/epoch - 356us/step\n",
      "Epoch 197/200\n",
      "500/500 - 0s - loss: 0.0558 - 171ms/epoch - 342us/step\n",
      "Epoch 198/200\n",
      "500/500 - 0s - loss: 0.0557 - 171ms/epoch - 341us/step\n",
      "Epoch 199/200\n",
      "500/500 - 0s - loss: 0.0556 - 167ms/epoch - 333us/step\n",
      "Epoch 200/200\n",
      "500/500 - 0s - loss: 0.0555 - 166ms/epoch - 331us/step\n"
     ]
    },
    {
     "data": {
      "text/plain": [
       "<keras.src.callbacks.History at 0x28d1f4790>"
      ]
     },
     "execution_count": 15,
     "metadata": {},
     "output_type": "execute_result"
    }
   ],
   "source": [
    "model.fit(X, y, batch_size=1, epochs=200, verbose=2)"
   ]
  },
  {
   "cell_type": "code",
   "execution_count": 16,
   "id": "5f34676a-bfc9-4c76-b49f-f8949e804c19",
   "metadata": {},
   "outputs": [
    {
     "name": "stdout",
     "output_type": "stream",
     "text": [
      "16/16 [==============================] - 0s 462us/step\n"
     ]
    }
   ],
   "source": [
    "predictions = np.round(model.predict(X).flatten())"
   ]
  },
  {
   "cell_type": "code",
   "execution_count": 17,
   "id": "fbc481f9-1850-40b5-b271-0b9afbeb7003",
   "metadata": {},
   "outputs": [
    {
     "data": {
      "image/png": "[encoded data removed]",
      "text/plain": [
       "<Figure size 640x480 with 1 Axes>"
      ]
     },
     "metadata": {},
     "output_type": "display_data"
    }
   ],
   "source": [
    "zeros_predictions = [i for i in range(len(predictions)) if predictions[i] == 0]\n",
    "ones_predictions = [i for i in range(len(predictions)) if predictions[i] == 1]\n",
    "\n",
    "plt.scatter(X[zeros_predictions, 0], X[zeros_predictions, 1], label=\"zero predictions\")\n",
    "plt.scatter(X[ones_predictions, 0], X[ones_predictions, 1], label=\"one predictions\")\n",
    "plt.plot(xs, ys, \"r--\", label=\"frontier\")\n",
    "plt.legend();"
   ]
  },
  {
   "cell_type": "markdown",
   "id": "77c55fe8-3399-4447-9009-30fc3ed6570c",
   "metadata": {},
   "source": [
    "Comprobamos que el algoritmo ha convergido a la separación lineal óptima."
   ]
  },
  {
   "cell_type": "markdown",
   "id": "adb3ce63-996e-4c2c-ae3e-f41ca9b48ceb",
   "metadata": {},
   "source": [
    "# Modelo paramétrico complejo\n",
    "\n",
    "En los modelos que hemos implementado hasta ahora se ha asumido una relación lineal entre entradas y salidas. Hubiesemos conseguido el mismo resultado entrenando una regresión lineal o una regresión logística sobre los datasets.\n",
    "\n",
    "Podemos utilizar keras para encontrar los parámetros de modelos mucho más complejos. Por ejemplo, supongamos que sabemos que la relación entre la salida y las entradas de nuestro modelo viene dada por los siguientes parámetros:\n",
    "\n",
    "$y = tanh(w_0 * x_0) * exp(w_1 * x_1 + w_2)$\n",
    "\n",
    "Para determinados valores de $w_0$, $w_1$ y $w_2$. "
   ]
  },
  {
   "cell_type": "code",
   "execution_count": 39,
   "id": "12d337ff-cbe2-48c4-96b6-801823041dd5",
   "metadata": {},
   "outputs": [],
   "source": [
    "# Parámetros del modelo\n",
    "weights = np.asarray([0.4, 0.3, -0.2]) # * Two input parameters and the bias"
   ]
  },
  {
   "cell_type": "code",
   "execution_count": 40,
   "id": "cbcc0544-408f-4813-b1f2-b4d86853bef8",
   "metadata": {},
   "outputs": [],
   "source": [
    " # ? - 1000 rows of 2 columns. \n",
    "X = np.random.randn(1_000, 2) # Generamos features sintéticas\n",
    "# ? - Formulate the defined equation. \n",
    "y = np.tanh(weights[0] * X[:, 0]) * np.exp(weights[1] * X[:, 1] + weights[2])"
   ]
  },
  {
   "cell_type": "markdown",
   "id": "69b9c6a1-0ec7-41f3-9982-6ddf6456a25d",
   "metadata": {},
   "source": [
    "Implementamos un modelo en keras que siga la ecuación dada."
   ]
  },
  {
   "cell_type": "code",
   "execution_count": 41,
   "id": "a0330a3b-dc51-4a2f-804e-97a4ceead9d7",
   "metadata": {},
   "outputs": [],
   "source": [
    "input_x0 = keras.layers.Input(shape=(1,), name=\"x0\")\n",
    "input_x1 = keras.layers.Input(shape=(1,), name=\"x1\")\n",
    "\n",
    "x_0 = keras.layers.Dense(1, use_bias=0, name=\"w0\")(input_x0) # * Here use_bias = 0, deletes the use of the bias variable from the actual adjustment\n",
    "x_0 = tf.math.tanh(x_0) # * Since we have 2 types of functions, we need 2 separate neural networks. \n",
    "\n",
    "x_1 = keras.layers.Dense(1, name=\"w1_w2\")(input_x1)\n",
    "x_1 = tf.exp(x_1)\n",
    "\n",
    "ouput = x_0 * x_1"
   ]
  },
  {
   "cell_type": "markdown",
   "id": "a23ed131",
   "metadata": {},
   "source": [
    "Actually, by default, we're using the **Functional API** from Keras here. However it's not obvious because they haven't declared it. \n",
    "We see that we have two different types of inputs, as well as the custom layer operations. "
   ]
  },
  {
   "cell_type": "code",
   "execution_count": 43,
   "id": "6adb9d17-ad85-479e-916b-9077d15efe6d",
   "metadata": {},
   "outputs": [],
   "source": [
    "model = keras.models.Model([input_x0, input_x1], ouput) # * Here the thing is that we don't declare it as functional, or sequential. Why?"
   ]
  },
  {
   "cell_type": "code",
   "execution_count": 44,
   "id": "b24625a9-0ef1-4220-a311-6f7de564a71a",
   "metadata": {},
   "outputs": [],
   "source": [
    "model.compile(\"adam\", \"mse\")"
   ]
  },
  {
   "cell_type": "code",
   "execution_count": 35,
   "id": "a5c288c0-4e09-4b03-9b0e-4a6cbfeebebf",
   "metadata": {},
   "outputs": [
    {
     "name": "stdout",
     "output_type": "stream",
     "text": [
      "Epoch 1/30\n"
     ]
    },
    {
     "name": "stdout",
     "output_type": "stream",
     "text": [
      "800/800 - 1s - loss: 7.7907e-05 - val_loss: 1.5075e-05 - 518ms/epoch - 647us/step\n",
      "Epoch 2/30\n",
      "800/800 - 0s - loss: 3.1040e-05 - val_loss: 5.2112e-06 - 376ms/epoch - 469us/step\n",
      "Epoch 3/30\n",
      "800/800 - 0s - loss: 1.0642e-05 - val_loss: 2.1448e-06 - 342ms/epoch - 428us/step\n",
      "Epoch 4/30\n",
      "800/800 - 0s - loss: 2.6536e-06 - val_loss: 2.8542e-07 - 337ms/epoch - 421us/step\n",
      "Epoch 5/30\n",
      "800/800 - 0s - loss: 4.8141e-07 - val_loss: 2.8868e-07 - 341ms/epoch - 426us/step\n",
      "Epoch 6/30\n",
      "800/800 - 0s - loss: 7.6003e-08 - val_loss: 3.4881e-08 - 339ms/epoch - 424us/step\n",
      "Epoch 7/30\n",
      "800/800 - 0s - loss: 8.9981e-09 - val_loss: 5.8687e-08 - 340ms/epoch - 425us/step\n",
      "Epoch 8/30\n",
      "800/800 - 0s - loss: 2.1898e-07 - val_loss: 3.3563e-07 - 336ms/epoch - 420us/step\n",
      "Epoch 9/30\n",
      "800/800 - 0s - loss: 6.1821e-08 - val_loss: 1.7652e-07 - 337ms/epoch - 422us/step\n",
      "Epoch 10/30\n",
      "800/800 - 0s - loss: 9.9308e-07 - val_loss: 4.5071e-09 - 362ms/epoch - 453us/step\n",
      "Epoch 11/30\n",
      "800/800 - 0s - loss: 2.2884e-06 - val_loss: 1.5422e-10 - 338ms/epoch - 422us/step\n",
      "Epoch 12/30\n",
      "800/800 - 0s - loss: 1.3428e-11 - val_loss: 4.2389e-13 - 335ms/epoch - 419us/step\n",
      "Epoch 13/30\n",
      "800/800 - 0s - loss: 3.3782e-11 - val_loss: 2.0902e-13 - 342ms/epoch - 428us/step\n",
      "Epoch 14/30\n",
      "800/800 - 0s - loss: 2.8674e-06 - val_loss: 1.5718e-07 - 337ms/epoch - 422us/step\n",
      "Epoch 15/30\n",
      "800/800 - 0s - loss: 2.6181e-07 - val_loss: 2.8247e-11 - 338ms/epoch - 422us/step\n",
      "Epoch 16/30\n",
      "800/800 - 0s - loss: 1.9300e-10 - val_loss: 3.1617e-13 - 336ms/epoch - 420us/step\n",
      "Epoch 17/30\n",
      "800/800 - 0s - loss: 1.5608e-09 - val_loss: 3.2965e-08 - 339ms/epoch - 423us/step\n",
      "Epoch 18/30\n",
      "800/800 - 0s - loss: 6.2468e-06 - val_loss: 2.1926e-08 - 338ms/epoch - 422us/step\n",
      "Epoch 19/30\n",
      "800/800 - 0s - loss: 3.3749e-08 - val_loss: 3.5914e-09 - 336ms/epoch - 420us/step\n",
      "Epoch 20/30\n",
      "800/800 - 0s - loss: 6.4950e-09 - val_loss: 1.6526e-10 - 345ms/epoch - 431us/step\n",
      "Epoch 21/30\n",
      "800/800 - 0s - loss: 1.2244e-10 - val_loss: 4.6612e-12 - 348ms/epoch - 435us/step\n",
      "Epoch 22/30\n",
      "800/800 - 0s - loss: 8.4385e-13 - val_loss: 7.7769e-16 - 339ms/epoch - 423us/step\n",
      "Epoch 23/30\n",
      "800/800 - 0s - loss: 6.6789e-13 - val_loss: 9.5905e-13 - 339ms/epoch - 423us/step\n",
      "Epoch 24/30\n",
      "800/800 - 0s - loss: 3.3360e-08 - val_loss: 9.6148e-08 - 370ms/epoch - 462us/step\n",
      "Epoch 25/30\n",
      "800/800 - 0s - loss: 7.3598e-06 - val_loss: 9.3052e-11 - 367ms/epoch - 459us/step\n",
      "Epoch 26/30\n",
      "800/800 - 0s - loss: 5.2065e-11 - val_loss: 5.3310e-12 - 352ms/epoch - 440us/step\n",
      "Epoch 27/30\n",
      "800/800 - 0s - loss: 7.3712e-11 - val_loss: 3.1741e-10 - 345ms/epoch - 431us/step\n",
      "Epoch 28/30\n",
      "800/800 - 0s - loss: 7.0374e-12 - val_loss: 6.9445e-16 - 351ms/epoch - 439us/step\n",
      "Epoch 29/30\n",
      "800/800 - 0s - loss: 5.6524e-12 - val_loss: 8.6216e-15 - 382ms/epoch - 478us/step\n",
      "Epoch 30/30\n",
      "800/800 - 0s - loss: 1.8291e-07 - val_loss: 3.8442e-05 - 353ms/epoch - 441us/step\n"
     ]
    },
    {
     "data": {
      "text/plain": [
       "<keras.src.callbacks.History at 0x28ed49e90>"
      ]
     },
     "execution_count": 35,
     "metadata": {},
     "output_type": "execute_result"
    }
   ],
   "source": [
    "model.fit({\"x0\": X[:, 0], \"x1\": X[:, 1]}, y, batch_size=1, epochs=30, verbose=2, validation_split=0.2)\n",
    "# * Model being fit by taking in the input parameters and wishing to output the others. "
   ]
  },
  {
   "cell_type": "code",
   "execution_count": 36,
   "id": "50d78bdc-0f34-4e2b-aca5-9eb61e9c5ae4",
   "metadata": {},
   "outputs": [],
   "source": [
    "w_0_estimated = model.get_layer(\"w0\").weights[0].numpy().flatten()[0]\n",
    "w_1_estimated = model.get_layer(\"w1_w2\").weights[0].numpy().flatten()[0] # * We get the single parameter here\n",
    "w_2_estimated = model.get_layer(\"w1_w2\").weights[1].numpy().flatten()[0] # * We get the bias here"
   ]
  },
  {
   "cell_type": "code",
   "execution_count": 45,
   "id": "a576e779-1b5a-49b6-a1ca-244aef41edd9",
   "metadata": {},
   "outputs": [
    {
     "data": {
      "image/png": "[encoded data removed]",
      "text/plain": [
       "<Figure size 640x480 with 1 Axes>"
      ]
     },
     "metadata": {},
     "output_type": "display_data"
    }
   ],
   "source": [
    "pd_results = pd.DataFrame([(\"w0\", weights[0], w_0_estimated), (\"w1\", weights[1], w_1_estimated), (\"w2\", weights[2], w_2_estimated)],\n",
    "                         columns=[\"param\", \"original\", \"estimado\"])\n",
    "pd_results.set_index(\"param\").plot.bar();"
   ]
  },
  {
   "cell_type": "markdown",
   "id": "d3ee4a5d-cc78-4d14-b9b3-4253491a730c",
   "metadata": {},
   "source": [
    "Comprobamos que el algoritmo ha conseguido encontrar aproximaciones adecuadas para los parámetros del modelo."
   ]
  },
  {
   "cell_type": "code",
   "execution_count": 26,
   "id": "d2e8114f-daff-404c-955f-19795dc3bb23",
   "metadata": {},
   "outputs": [
    {
     "name": "stdout",
     "output_type": "stream",
     "text": [
      "32/32 [==============================] - 0s 442us/step\n"
     ]
    }
   ],
   "source": [
    "y_predictions = model.predict({\"x0\": X[:, 0], \"x1\": X[:, 1]})"
   ]
  },
  {
   "cell_type": "code",
   "execution_count": 27,
   "id": "eb29a632-23cf-42ef-b563-c1b32f441064",
   "metadata": {},
   "outputs": [
    {
     "name": "stdout",
     "output_type": "stream",
     "text": [
      "32/32 [==============================] - 0s 491us/step - loss: 9.4905e-05\n"
     ]
    },
    {
     "data": {
      "image/png": "[encoded data removed]",
      "text/plain": [
       "<Figure size 640x480 with 1 Axes>"
      ]
     },
     "metadata": {},
     "output_type": "display_data"
    }
   ],
   "source": [
    "mse_error = model.evaluate({\"x0\": X[:, 0], \"x1\": X[:, 1]}, y)\n",
    "plt.title(f\"MSE = {mse_error}\")\n",
    "plt.scatter(y, y_predictions)\n",
    "plt.xlabel(\"Valores reales\")\n",
    "plt.ylabel(\"Predicciones\");"
   ]
  },
  {
   "cell_type": "markdown",
   "id": "52d9283f-acde-4c41-a6b1-c90a7c7b0860",
   "metadata": {},
   "source": [
    "Ejercicio: probar a repetir este apartado con otras ecuaciones. Por ejemplo:\n",
    "\n",
    "\n",
    "$y = sigmoid(w_0 * x_0 + w_3) * (w_1 * x_1 + w_2)$\n",
    "\n"
   ]
  },
  {
   "cell_type": "code",
   "execution_count": 88,
   "id": "c9612057",
   "metadata": {},
   "outputs": [],
   "source": [
    "weights_s = np.asarray([0.4,0.3,-0.2,0.5])"
   ]
  },
  {
   "cell_type": "code",
   "execution_count": 89,
   "id": "43940326",
   "metadata": {},
   "outputs": [],
   "source": [
    " # * Definition of the sigmoid function: \n",
    "def sigmoid(x):\n",
    "    return 1 / (1 + np.exp(-x))"
   ]
  },
  {
   "cell_type": "code",
   "execution_count": 90,
   "id": "14d16384",
   "metadata": {},
   "outputs": [],
   "source": [
    "X = np.random.randn(1_000, 2) # Dos entradas de x\n",
    "y = sigmoid(weights_s[0]*X[:,0] + weights_s[3]) * (weights_s[1]* X[:,1] + weights_s[2])"
   ]
  },
  {
   "cell_type": "markdown",
   "id": "38561de9",
   "metadata": {},
   "source": [
    "Implementamos el modelo Keras para que siga la ecuación dada:"
   ]
  },
  {
   "cell_type": "code",
   "execution_count": 91,
   "id": "18ce249a",
   "metadata": {},
   "outputs": [],
   "source": [
    "input_x0_s = keras.layers.Input(shape = (1,), name = 'x0')\n",
    "input_x1_s = keras.layers.Input(shape = (1,), name = 'x1')\n",
    "\n",
    "x_0_s = keras.layers.Dense(1, name=\"w0_w3\")(input_x0_s)\n",
    "x_0_s = tf.math.sigmoid(x_0_s)\n",
    "\n",
    "x_1_s = keras.layers.Dense(1, name=\"w1_w2\")(input_x1_s)\n",
    "\n",
    "output_s = x_0_s * x_1_s"
   ]
  },
  {
   "cell_type": "code",
   "execution_count": 92,
   "id": "a7837cdd",
   "metadata": {},
   "outputs": [],
   "source": [
    "model_s = keras.models.Model([input_x0_s, input_x1_s], output_s) "
   ]
  },
  {
   "cell_type": "code",
   "execution_count": 93,
   "id": "1f844392",
   "metadata": {},
   "outputs": [],
   "source": [
    "model_s.compile(\"adam\", \"mse\")"
   ]
  },
  {
   "cell_type": "code",
   "execution_count": 94,
   "id": "85c2dec1",
   "metadata": {},
   "outputs": [
    {
     "name": "stdout",
     "output_type": "stream",
     "text": [
      "Epoch 1/30\n"
     ]
    },
    {
     "name": "stdout",
     "output_type": "stream",
     "text": [
      "800/800 - 1s - loss: 0.5983 - val_loss: 0.3858 - 582ms/epoch - 727us/step\n",
      "Epoch 2/30\n",
      "800/800 - 0s - loss: 0.3039 - val_loss: 0.2061 - 354ms/epoch - 442us/step\n",
      "Epoch 3/30\n",
      "800/800 - 0s - loss: 0.1668 - val_loss: 0.1143 - 340ms/epoch - 425us/step\n",
      "Epoch 4/30\n",
      "800/800 - 0s - loss: 0.0968 - val_loss: 0.0679 - 347ms/epoch - 434us/step\n",
      "Epoch 5/30\n",
      "800/800 - 0s - loss: 0.0595 - val_loss: 0.0421 - 379ms/epoch - 474us/step\n",
      "Epoch 6/30\n",
      "800/800 - 0s - loss: 0.0380 - val_loss: 0.0281 - 367ms/epoch - 459us/step\n",
      "Epoch 7/30\n",
      "800/800 - 0s - loss: 0.0262 - val_loss: 0.0212 - 416ms/epoch - 521us/step\n",
      "Epoch 8/30\n",
      "800/800 - 0s - loss: 0.0190 - val_loss: 0.0154 - 385ms/epoch - 481us/step\n",
      "Epoch 9/30\n",
      "800/800 - 0s - loss: 0.0119 - val_loss: 0.0087 - 352ms/epoch - 440us/step\n",
      "Epoch 10/30\n",
      "800/800 - 0s - loss: 0.0056 - val_loss: 0.0036 - 339ms/epoch - 424us/step\n",
      "Epoch 11/30\n",
      "800/800 - 0s - loss: 0.0018 - val_loss: 9.2686e-04 - 364ms/epoch - 455us/step\n",
      "Epoch 12/30\n",
      "800/800 - 0s - loss: 4.1370e-04 - val_loss: 1.5927e-04 - 350ms/epoch - 438us/step\n",
      "Epoch 13/30\n",
      "800/800 - 0s - loss: 6.8826e-05 - val_loss: 2.4534e-05 - 378ms/epoch - 472us/step\n",
      "Epoch 14/30\n",
      "800/800 - 0s - loss: 1.5547e-05 - val_loss: 1.5354e-05 - 373ms/epoch - 466us/step\n",
      "Epoch 15/30\n",
      "800/800 - 0s - loss: 1.1025e-05 - val_loss: 1.5345e-05 - 408ms/epoch - 510us/step\n",
      "Epoch 16/30\n",
      "800/800 - 0s - loss: 1.0607e-05 - val_loss: 1.6688e-05 - 369ms/epoch - 462us/step\n",
      "Epoch 17/30\n",
      "800/800 - 0s - loss: 1.1024e-05 - val_loss: 1.8812e-05 - 395ms/epoch - 494us/step\n",
      "Epoch 18/30\n",
      "800/800 - 0s - loss: 1.1723e-05 - val_loss: 1.5136e-05 - 357ms/epoch - 446us/step\n",
      "Epoch 19/30\n",
      "800/800 - 0s - loss: 1.2126e-05 - val_loss: 1.9174e-05 - 391ms/epoch - 489us/step\n",
      "Epoch 20/30\n",
      "800/800 - 0s - loss: 1.3061e-05 - val_loss: 1.6246e-05 - 356ms/epoch - 446us/step\n",
      "Epoch 21/30\n",
      "800/800 - 0s - loss: 1.2488e-05 - val_loss: 1.5665e-05 - 393ms/epoch - 491us/step\n",
      "Epoch 22/30\n",
      "800/800 - 0s - loss: 1.1797e-05 - val_loss: 1.3826e-05 - 348ms/epoch - 435us/step\n",
      "Epoch 23/30\n",
      "800/800 - 0s - loss: 1.2758e-05 - val_loss: 1.7307e-05 - 347ms/epoch - 433us/step\n",
      "Epoch 24/30\n",
      "800/800 - 0s - loss: 1.3111e-05 - val_loss: 1.5005e-05 - 349ms/epoch - 436us/step\n",
      "Epoch 25/30\n",
      "800/800 - 0s - loss: 1.3054e-05 - val_loss: 1.8195e-05 - 346ms/epoch - 432us/step\n",
      "Epoch 26/30\n",
      "800/800 - 0s - loss: 1.2533e-05 - val_loss: 1.4729e-05 - 342ms/epoch - 428us/step\n",
      "Epoch 27/30\n",
      "800/800 - 0s - loss: 1.2112e-05 - val_loss: 2.1122e-05 - 357ms/epoch - 447us/step\n",
      "Epoch 28/30\n",
      "800/800 - 0s - loss: 1.2356e-05 - val_loss: 2.1212e-05 - 376ms/epoch - 469us/step\n",
      "Epoch 29/30\n",
      "800/800 - 0s - loss: 1.2445e-05 - val_loss: 1.4019e-05 - 351ms/epoch - 439us/step\n",
      "Epoch 30/30\n",
      "800/800 - 0s - loss: 1.2002e-05 - val_loss: 1.4386e-05 - 345ms/epoch - 431us/step\n"
     ]
    },
    {
     "data": {
      "text/plain": [
       "<keras.src.callbacks.History at 0x2917a6790>"
      ]
     },
     "execution_count": 94,
     "metadata": {},
     "output_type": "execute_result"
    }
   ],
   "source": [
    "model_s.fit({\"x0\": X[:,0], \"x1\":X[:,1]}, y, batch_size=1, epochs=30, verbose=2, validation_split=0.2)"
   ]
  },
  {
   "cell_type": "code",
   "execution_count": 102,
   "id": "576aa323",
   "metadata": {},
   "outputs": [],
   "source": [
    "w_0_estimated  = model_s.get_layer(\"w0_w3\").weights[0].numpy().flatten()[0]\n",
    "w_1_estimated = model_s.get_layer(\"w1_w2\").weights[0].numpy().flatten()[0]\n",
    "w_2_estimated = model_s.get_layer(\"w1_w2\").weights[1].numpy().flatten()[0]\n",
    "w_3_estimated  = model_s.get_layer(\"w0_w3\").weights[1].numpy().flatten()[0]"
   ]
  },
  {
   "cell_type": "markdown",
   "id": "39aee9cd",
   "metadata": {},
   "source": [
    "Plot the estimated results"
   ]
  },
  {
   "cell_type": "code",
   "execution_count": 103,
   "id": "6b9330eb",
   "metadata": {},
   "outputs": [
    {
     "data": {
      "image/png": "[encoded data removed]",
      "text/plain": [
       "<Figure size 640x480 with 1 Axes>"
      ]
     },
     "metadata": {},
     "output_type": "display_data"
    }
   ],
   "source": [
    "pd_results_s = pd.DataFrame([(\"w0\", weights_s[0], w_0_estimated), (\"w1\", weights_s[1], w_1_estimated), (\"w2\", weights_s[2], w_2_estimated), (\"w3\", weights_s[3], w_3_estimated)],\n",
    "                            columns = ['param', 'original', 'estimado'])\n",
    "pd_results_s.set_index(\"param\").plot.bar(); "
   ]
  },
  {
   "cell_type": "markdown",
   "id": "5368fc22-7a78-49ae-82a9-6e0f79c10c61",
   "metadata": {},
   "source": [
    "# Perceptrón multicapa\n",
    "\n",
    "Vamos a tratar de resolver el problema anterior usando un perceptrón multicapa."
   ]
  },
  {
   "cell_type": "code",
   "execution_count": 104,
   "id": "748549c9-401f-4999-ae0b-7559bf764f3f",
   "metadata": {},
   "outputs": [],
   "source": [
    "inputs = keras.layers.Input(shape=(2, ))\n",
    "x = keras.layers.Dense(200, activation=\"tanh\")(inputs) # Capa oculta de 200 neuronas\n",
    "x = keras.layers.Dense(1, activation=None)(x)\n",
    "model = keras.models.Model(inputs, x, name=\"multilayer\")"
   ]
  },
  {
   "cell_type": "code",
   "execution_count": 105,
   "id": "f08a88ee-b94c-4eb3-91a1-ada9ed11a4d7",
   "metadata": {},
   "outputs": [
    {
     "name": "stderr",
     "output_type": "stream",
     "text": [
      "WARNING:absl:At this time, the v2.11+ optimizer `tf.keras.optimizers.Adam` runs slowly on M1/M2 Macs, please use the legacy Keras optimizer instead, located at `tf.keras.optimizers.legacy.Adam`.\n"
     ]
    }
   ],
   "source": [
    "model.compile(keras.optimizers.Adam(), \"mse\")"
   ]
  },
  {
   "cell_type": "code",
   "execution_count": 106,
   "id": "0a98c0ee-0034-433e-8508-ff88c6565c40",
   "metadata": {},
   "outputs": [
    {
     "name": "stdout",
     "output_type": "stream",
     "text": [
      "Epoch 1/20\n"
     ]
    },
    {
     "name": "stdout",
     "output_type": "stream",
     "text": [
      "800/800 - 1s - loss: 0.0038 - val_loss: 0.0016 - 611ms/epoch - 764us/step\n",
      "Epoch 2/20\n",
      "800/800 - 0s - loss: 0.0023 - val_loss: 0.0015 - 419ms/epoch - 524us/step\n",
      "Epoch 3/20\n",
      "800/800 - 0s - loss: 0.0022 - val_loss: 0.0022 - 421ms/epoch - 527us/step\n",
      "Epoch 4/20\n",
      "800/800 - 0s - loss: 0.0014 - val_loss: 0.0010 - 363ms/epoch - 454us/step\n",
      "Epoch 5/20\n",
      "800/800 - 0s - loss: 0.0014 - val_loss: 0.0016 - 354ms/epoch - 443us/step\n",
      "Epoch 6/20\n",
      "800/800 - 0s - loss: 0.0011 - val_loss: 4.9213e-04 - 413ms/epoch - 517us/step\n",
      "Epoch 7/20\n",
      "800/800 - 0s - loss: 9.3538e-04 - val_loss: 7.9786e-04 - 359ms/epoch - 449us/step\n",
      "Epoch 8/20\n",
      "800/800 - 0s - loss: 8.1145e-04 - val_loss: 3.3948e-04 - 361ms/epoch - 451us/step\n",
      "Epoch 9/20\n",
      "800/800 - 0s - loss: 6.7692e-04 - val_loss: 3.2019e-04 - 396ms/epoch - 495us/step\n",
      "Epoch 10/20\n",
      "800/800 - 0s - loss: 5.5957e-04 - val_loss: 1.6830e-04 - 356ms/epoch - 445us/step\n",
      "Epoch 11/20\n",
      "800/800 - 0s - loss: 5.4188e-04 - val_loss: 2.3092e-04 - 357ms/epoch - 447us/step\n",
      "Epoch 12/20\n",
      "800/800 - 0s - loss: 2.0122e-04 - val_loss: 1.2516e-04 - 388ms/epoch - 485us/step\n",
      "Epoch 13/20\n",
      "800/800 - 0s - loss: 3.3848e-04 - val_loss: 4.6765e-05 - 379ms/epoch - 474us/step\n",
      "Epoch 14/20\n",
      "800/800 - 0s - loss: 2.8110e-04 - val_loss: 1.5479e-04 - 365ms/epoch - 456us/step\n",
      "Epoch 15/20\n",
      "800/800 - 0s - loss: 5.5124e-04 - val_loss: 2.0309e-04 - 353ms/epoch - 442us/step\n",
      "Epoch 16/20\n",
      "800/800 - 0s - loss: 2.8730e-04 - val_loss: 3.3532e-05 - 361ms/epoch - 452us/step\n",
      "Epoch 17/20\n",
      "800/800 - 0s - loss: 2.4136e-04 - val_loss: 2.2804e-05 - 382ms/epoch - 477us/step\n",
      "Epoch 18/20\n",
      "800/800 - 0s - loss: 8.5471e-05 - val_loss: 1.2763e-04 - 367ms/epoch - 458us/step\n",
      "Epoch 19/20\n",
      "800/800 - 0s - loss: 2.0344e-04 - val_loss: 3.3237e-05 - 371ms/epoch - 464us/step\n",
      "Epoch 20/20\n",
      "800/800 - 0s - loss: 8.9512e-05 - val_loss: 5.3758e-05 - 369ms/epoch - 461us/step\n"
     ]
    },
    {
     "data": {
      "text/plain": [
       "<keras.src.callbacks.History at 0x29494b490>"
      ]
     },
     "execution_count": 106,
     "metadata": {},
     "output_type": "execute_result"
    }
   ],
   "source": [
    "model.fit(X, y, batch_size=1, epochs=20, verbose=2, validation_split=0.2)"
   ]
  },
  {
   "cell_type": "code",
   "execution_count": 100,
   "id": "8a71372f-84f3-4ae2-bfb7-46532a05358b",
   "metadata": {},
   "outputs": [
    {
     "name": "stdout",
     "output_type": "stream",
     "text": [
      "32/32 [==============================] - 0s 417us/step\n"
     ]
    }
   ],
   "source": [
    "y_predictions = model.predict(X)"
   ]
  },
  {
   "cell_type": "code",
   "execution_count": 101,
   "id": "52eebb4d-ebb0-4d7b-8e07-5d69ca152266",
   "metadata": {},
   "outputs": [
    {
     "name": "stdout",
     "output_type": "stream",
     "text": [
      "32/32 [==============================] - 0s 445us/step - loss: 1.0614e-04\n"
     ]
    },
    {
     "data": {
      "image/png": "[encoded data removed]",
      "text/plain": [
       "<Figure size 640x480 with 1 Axes>"
      ]
     },
     "metadata": {},
     "output_type": "display_data"
    }
   ],
   "source": [
    "mse_error = model.evaluate(X, y)\n",
    "plt.title(f\"MSE = {mse_error}\")\n",
    "plt.scatter(y, y_predictions)\n",
    "plt.xlabel(\"Valores reales\")\n",
    "plt.ylabel(\"Predicciones\");"
   ]
  },
  {
   "cell_type": "markdown",
   "id": "9929517d-c1ba-4b1b-a007-02127ae32e3f",
   "metadata": {},
   "source": [
    "En este caso no hemos supuesto conocida la ecuación que relaciona las salidas con la entrada (modelo no paramétrico). Aún así, ha sido capaz de encontrar un buen modelo para los datos dados. ¿Por qué?\n",
    "\n",
    "\n",
    "**Teorema de aproximación universal:** Cualquier función continua es aproximable por un perceptrón de una sola capa suficientemente grande.\n",
    "\n",
    "[Explicación Wikipedia](https://en.wikipedia.org/wiki/Universal_approximation_theorem)\n",
    "\n",
    "[Explicación divulgativa](https://towardsdatascience.com/neural-networks-and-the-universal-approximation-theorem-8a389a33d30a)"
   ]
  }
 ],
 "metadata": {
  "kernelspec": {
   "display_name": "Python 3",
   "language": "python",
   "name": "python3"
  },
  "language_info": {
   "codemirror_mode": {
    "name": "ipython",
    "version": 3
   },
   "file_extension": ".py",
   "mimetype": "text/x-python",
   "name": "python",
   "nbconvert_exporter": "python",
   "pygments_lexer": "ipython3",
   "version": "3.11.5"
  }
 },
 "nbformat": 4,
 "nbformat_minor": 5
}
